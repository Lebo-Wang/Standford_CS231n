{
 "cells": [
  {
   "cell_type": "markdown",
   "metadata": {},
   "source": [
    "# Dropout\n",
    "Dropout [1] is a technique for regularizing neural networks by randomly setting some features to zero during the forward pass. In this exercise you will implement a dropout layer and modify your fully-connected network to optionally use dropout.\n",
    "\n",
    "[1] Geoffrey E. Hinton et al, \"Improving neural networks by preventing co-adaptation of feature detectors\", arXiv 2012"
   ]
  },
  {
   "cell_type": "code",
   "execution_count": 1,
   "metadata": {
    "collapsed": false
   },
   "outputs": [],
   "source": [
    "# As usual, a bit of setup\n",
    "\n",
    "import time\n",
    "import numpy as np\n",
    "import matplotlib.pyplot as plt\n",
    "from cs231n.classifiers.fc_net import *\n",
    "from cs231n.data_utils import get_CIFAR10_data\n",
    "from cs231n.gradient_check import eval_numerical_gradient, eval_numerical_gradient_array\n",
    "from cs231n.solver import Solver\n",
    "\n",
    "%matplotlib inline\n",
    "plt.rcParams['figure.figsize'] = (10.0, 8.0) # set default size of plots\n",
    "plt.rcParams['image.interpolation'] = 'nearest'\n",
    "plt.rcParams['image.cmap'] = 'gray'\n",
    "\n",
    "# for auto-reloading external modules\n",
    "# see http://stackoverflow.com/questions/1907993/autoreload-of-modules-in-ipython\n",
    "%load_ext autoreload\n",
    "%autoreload 2\n",
    "\n",
    "def rel_error(x, y):\n",
    "  \"\"\" returns relative error \"\"\"\n",
    "  return np.max(np.abs(x - y) / (np.maximum(1e-8, np.abs(x) + np.abs(y))))"
   ]
  },
  {
   "cell_type": "code",
   "execution_count": 2,
   "metadata": {
    "collapsed": false
   },
   "outputs": [
    {
     "name": "stdout",
     "output_type": "stream",
     "text": [
      "X_val:  (1000L, 3L, 32L, 32L)\n",
      "X_train:  (49000L, 3L, 32L, 32L)\n",
      "X_test:  (1000L, 3L, 32L, 32L)\n",
      "y_val:  (1000L,)\n",
      "y_train:  (49000L,)\n",
      "y_test:  (1000L,)\n"
     ]
    }
   ],
   "source": [
    "# Load the (preprocessed) CIFAR10 data.\n",
    "\n",
    "data = get_CIFAR10_data()\n",
    "for k, v in data.iteritems():\n",
    "  print '%s: ' % k, v.shape"
   ]
  },
  {
   "cell_type": "markdown",
   "metadata": {},
   "source": [
    "# Dropout forward pass\n",
    "In the file `cs231n/layers.py`, implement the forward pass for dropout. Since dropout behaves differently during training and testing, make sure to implement the operation for both modes.\n",
    "\n",
    "Once you have done so, run the cell below to test your implementation."
   ]
  },
  {
   "cell_type": "code",
   "execution_count": 3,
   "metadata": {
    "collapsed": false,
    "scrolled": true
   },
   "outputs": [
    {
     "name": "stdout",
     "output_type": "stream",
     "text": [
      "Running tests with p =  0.3\n",
      "Mean of input:  9.99866412188\n",
      "Mean of train-time output:  10.0026726079\n",
      "Mean of test-time output:  9.99866412188\n",
      "Fraction of train-time output set to zero:  0.299728\n",
      "Fraction of test-time output set to zero:  0.0\n",
      "\n",
      "Running tests with p =  0.6\n",
      "Mean of input:  9.99866412188\n",
      "Mean of train-time output:  10.008029949\n",
      "Mean of test-time output:  9.99866412188\n",
      "Fraction of train-time output set to zero:  0.599592\n",
      "Fraction of test-time output set to zero:  0.0\n",
      "\n",
      "Running tests with p =  0.75\n",
      "Mean of input:  9.99866412188\n",
      "Mean of train-time output:  9.98989434013\n",
      "Mean of test-time output:  9.99866412188\n",
      "Fraction of train-time output set to zero:  0.75032\n",
      "Fraction of test-time output set to zero:  0.0\n",
      "\n"
     ]
    }
   ],
   "source": [
    "x = np.random.randn(500, 500) + 10\n",
    "\n",
    "for p in [0.3, 0.6, 0.75]:\n",
    "  out, _ = dropout_forward(x, {'mode': 'train', 'p': p})\n",
    "  out_test, _ = dropout_forward(x, {'mode': 'test', 'p': p})\n",
    "\n",
    "  print 'Running tests with p = ', p\n",
    "  print 'Mean of input: ', x.mean()\n",
    "  print 'Mean of train-time output: ', out.mean()\n",
    "  print 'Mean of test-time output: ', out_test.mean()\n",
    "  print 'Fraction of train-time output set to zero: ', (out == 0).mean()\n",
    "  print 'Fraction of test-time output set to zero: ', (out_test == 0).mean()\n",
    "  print"
   ]
  },
  {
   "cell_type": "markdown",
   "metadata": {},
   "source": [
    "# Dropout backward pass\n",
    "In the file `cs231n/layers.py`, implement the backward pass for dropout. After doing so, run the following cell to numerically gradient-check your implementation."
   ]
  },
  {
   "cell_type": "code",
   "execution_count": 4,
   "metadata": {
    "collapsed": false
   },
   "outputs": [
    {
     "name": "stdout",
     "output_type": "stream",
     "text": [
      "dx relative error:  1.89291112458e-11\n"
     ]
    }
   ],
   "source": [
    "x = np.random.randn(10, 10) + 10\n",
    "dout = np.random.randn(*x.shape)\n",
    "\n",
    "dropout_param = {'mode': 'train', 'p': 0.8, 'seed': 123}\n",
    "out, cache = dropout_forward(x, dropout_param)\n",
    "dx = dropout_backward(dout, cache)\n",
    "dx_num = eval_numerical_gradient_array(lambda xx: dropout_forward(xx, dropout_param)[0], x, dout)\n",
    "\n",
    "print 'dx relative error: ', rel_error(dx, dx_num)"
   ]
  },
  {
   "cell_type": "markdown",
   "metadata": {},
   "source": [
    "# Fully-connected nets with Dropout\n",
    "In the file `cs231n/classifiers/fc_net.py`, modify your implementation to use dropout. Specificially, if the constructor the the net receives a nonzero value for the `dropout` parameter, then the net should add dropout immediately after every ReLU nonlinearity. After doing so, run the following to numerically gradient-check your implementation."
   ]
  },
  {
   "cell_type": "code",
   "execution_count": 5,
   "metadata": {
    "collapsed": false
   },
   "outputs": [
    {
     "name": "stdout",
     "output_type": "stream",
     "text": [
      "Running check with dropout =  0\n",
      "Initial loss:  2.3051948274\n",
      "W1 relative error: 2.53e-07\n",
      "W2 relative error: 1.50e-05\n",
      "W3 relative error: 2.75e-07\n",
      "b1 relative error: 2.94e-06\n",
      "b2 relative error: 5.05e-08\n",
      "b3 relative error: 1.17e-10\n",
      "\n",
      "Running check with dropout =  0.25\n",
      "Initial loss:  2.30520775465\n",
      "W1 relative error: 2.61e-07\n",
      "W2 relative error: 5.02e-07\n",
      "W3 relative error: 4.46e-08\n",
      "b1 relative error: 7.40e-08\n",
      "b2 relative error: 7.15e-10\n",
      "b3 relative error: 1.00e-10\n",
      "\n",
      "Running check with dropout =  0.5\n",
      "Initial loss:  2.30356675866\n",
      "W1 relative error: 1.14e-06\n",
      "W2 relative error: 1.85e-07\n",
      "W3 relative error: 6.60e-09\n",
      "b1 relative error: 7.72e-08\n",
      "b2 relative error: 1.20e-09\n",
      "b3 relative error: 1.16e-10\n",
      "\n"
     ]
    }
   ],
   "source": [
    "N, D, H1, H2, C = 2, 15, 20, 30, 10\n",
    "X = np.random.randn(N, D)\n",
    "y = np.random.randint(C, size=(N,))\n",
    "\n",
    "for dropout in [0, 0.25, 0.5]:\n",
    "  print 'Running check with dropout = ', dropout\n",
    "  model = FullyConnectedNet([H1, H2], input_dim=D, num_classes=C,\n",
    "                            weight_scale=5e-2, dtype=np.float64,\n",
    "                            dropout=dropout, seed=123)\n",
    "\n",
    "  loss, grads = model.loss(X, y)\n",
    "  print 'Initial loss: ', loss\n",
    "\n",
    "  for name in sorted(grads):\n",
    "    f = lambda _: model.loss(X, y)[0]\n",
    "    grad_num = eval_numerical_gradient(f, model.params[name], verbose=False, h=1e-5)\n",
    "    print '%s relative error: %.2e' % (name, rel_error(grad_num, grads[name]))\n",
    "  print"
   ]
  },
  {
   "cell_type": "markdown",
   "metadata": {},
   "source": [
    "# Regularization experiment\n",
    "As an experiment, we will train a pair of two-layer networks on 500 training examples: one will use no dropout, and one will use a dropout probability of 0.75. We will then visualize the training and validation accuracies of the two networks over time."
   ]
  },
  {
   "cell_type": "code",
   "execution_count": 12,
   "metadata": {
    "collapsed": false,
    "scrolled": false
   },
   "outputs": [
    {
     "name": "stdout",
     "output_type": "stream",
     "text": [
      "0\n",
      "(Iteration 1 / 250) loss: 8.047615\n",
      "(Epoch 0 / 50) train acc: 0.264000; val_acc: 0.206000\n",
      "(Epoch 1 / 50) train acc: 0.306000; val_acc: 0.224000\n",
      "(Epoch 2 / 50) train acc: 0.356000; val_acc: 0.231000\n",
      "(Epoch 3 / 50) train acc: 0.478000; val_acc: 0.233000\n",
      "(Epoch 4 / 50) train acc: 0.518000; val_acc: 0.253000\n",
      "(Epoch 5 / 50) train acc: 0.578000; val_acc: 0.260000\n",
      "(Epoch 6 / 50) train acc: 0.626000; val_acc: 0.257000\n",
      "(Epoch 7 / 50) train acc: 0.714000; val_acc: 0.277000\n",
      "(Epoch 8 / 50) train acc: 0.698000; val_acc: 0.239000\n",
      "(Epoch 9 / 50) train acc: 0.804000; val_acc: 0.266000\n",
      "(Epoch 10 / 50) train acc: 0.800000; val_acc: 0.270000\n",
      "(Epoch 11 / 50) train acc: 0.848000; val_acc: 0.274000\n",
      "(Epoch 12 / 50) train acc: 0.842000; val_acc: 0.278000\n",
      "(Epoch 13 / 50) train acc: 0.854000; val_acc: 0.269000\n",
      "(Epoch 14 / 50) train acc: 0.860000; val_acc: 0.299000\n",
      "(Epoch 15 / 50) train acc: 0.904000; val_acc: 0.300000\n",
      "(Epoch 16 / 50) train acc: 0.922000; val_acc: 0.286000\n",
      "(Epoch 17 / 50) train acc: 0.932000; val_acc: 0.302000\n",
      "(Epoch 18 / 50) train acc: 0.960000; val_acc: 0.280000\n",
      "(Epoch 19 / 50) train acc: 0.986000; val_acc: 0.279000\n",
      "(Epoch 20 / 50) train acc: 0.982000; val_acc: 0.279000\n",
      "(Iteration 101 / 250) loss: 0.025764\n",
      "(Epoch 21 / 50) train acc: 0.984000; val_acc: 0.281000\n",
      "(Epoch 22 / 50) train acc: 0.986000; val_acc: 0.291000\n",
      "(Epoch 23 / 50) train acc: 0.968000; val_acc: 0.285000\n",
      "(Epoch 24 / 50) train acc: 0.992000; val_acc: 0.281000\n",
      "(Epoch 25 / 50) train acc: 0.974000; val_acc: 0.286000\n",
      "(Epoch 26 / 50) train acc: 0.988000; val_acc: 0.304000\n",
      "(Epoch 27 / 50) train acc: 0.986000; val_acc: 0.294000\n",
      "(Epoch 28 / 50) train acc: 0.988000; val_acc: 0.302000\n",
      "(Epoch 29 / 50) train acc: 0.996000; val_acc: 0.293000\n",
      "(Epoch 30 / 50) train acc: 0.994000; val_acc: 0.294000\n",
      "(Epoch 31 / 50) train acc: 0.998000; val_acc: 0.295000\n",
      "(Epoch 32 / 50) train acc: 0.998000; val_acc: 0.302000\n",
      "(Epoch 33 / 50) train acc: 0.966000; val_acc: 0.288000\n",
      "(Epoch 34 / 50) train acc: 0.994000; val_acc: 0.287000\n",
      "(Epoch 35 / 50) train acc: 0.992000; val_acc: 0.286000\n",
      "(Epoch 36 / 50) train acc: 0.998000; val_acc: 0.280000\n",
      "(Epoch 37 / 50) train acc: 0.998000; val_acc: 0.282000\n",
      "(Epoch 38 / 50) train acc: 1.000000; val_acc: 0.282000\n",
      "(Epoch 39 / 50) train acc: 1.000000; val_acc: 0.289000\n",
      "(Epoch 40 / 50) train acc: 1.000000; val_acc: 0.293000\n",
      "(Iteration 201 / 250) loss: 0.000015\n",
      "(Epoch 41 / 50) train acc: 1.000000; val_acc: 0.289000\n",
      "(Epoch 42 / 50) train acc: 1.000000; val_acc: 0.289000\n",
      "(Epoch 43 / 50) train acc: 1.000000; val_acc: 0.289000\n",
      "(Epoch 44 / 50) train acc: 1.000000; val_acc: 0.289000\n",
      "(Epoch 45 / 50) train acc: 1.000000; val_acc: 0.289000\n",
      "(Epoch 46 / 50) train acc: 1.000000; val_acc: 0.290000\n",
      "(Epoch 47 / 50) train acc: 1.000000; val_acc: 0.290000\n",
      "(Epoch 48 / 50) train acc: 1.000000; val_acc: 0.290000\n",
      "(Epoch 49 / 50) train acc: 1.000000; val_acc: 0.290000\n",
      "(Epoch 50 / 50) train acc: 1.000000; val_acc: 0.290000\n",
      "0.7\n",
      "(Iteration 1 / 250) loss: 14.791826\n",
      "(Epoch 0 / 50) train acc: 0.226000; val_acc: 0.205000\n",
      "(Epoch 1 / 50) train acc: 0.334000; val_acc: 0.229000\n",
      "(Epoch 2 / 50) train acc: 0.304000; val_acc: 0.215000\n",
      "(Epoch 3 / 50) train acc: 0.398000; val_acc: 0.247000\n",
      "(Epoch 4 / 50) train acc: 0.428000; val_acc: 0.248000\n",
      "(Epoch 5 / 50) train acc: 0.526000; val_acc: 0.302000\n",
      "(Epoch 6 / 50) train acc: 0.546000; val_acc: 0.302000\n",
      "(Epoch 7 / 50) train acc: 0.466000; val_acc: 0.222000\n",
      "(Epoch 8 / 50) train acc: 0.570000; val_acc: 0.303000\n",
      "(Epoch 9 / 50) train acc: 0.688000; val_acc: 0.298000\n",
      "(Epoch 10 / 50) train acc: 0.640000; val_acc: 0.280000\n",
      "(Epoch 11 / 50) train acc: 0.666000; val_acc: 0.256000\n",
      "(Epoch 12 / 50) train acc: 0.740000; val_acc: 0.305000\n",
      "(Epoch 13 / 50) train acc: 0.734000; val_acc: 0.311000\n",
      "(Epoch 14 / 50) train acc: 0.806000; val_acc: 0.299000\n",
      "(Epoch 15 / 50) train acc: 0.824000; val_acc: 0.304000\n",
      "(Epoch 16 / 50) train acc: 0.776000; val_acc: 0.300000\n",
      "(Epoch 17 / 50) train acc: 0.848000; val_acc: 0.308000\n",
      "(Epoch 18 / 50) train acc: 0.846000; val_acc: 0.317000\n",
      "(Epoch 19 / 50) train acc: 0.866000; val_acc: 0.339000\n",
      "(Epoch 20 / 50) train acc: 0.884000; val_acc: 0.325000\n",
      "(Iteration 101 / 250) loss: 37.688393\n",
      "(Epoch 21 / 50) train acc: 0.880000; val_acc: 0.312000\n",
      "(Epoch 22 / 50) train acc: 0.914000; val_acc: 0.323000\n",
      "(Epoch 23 / 50) train acc: 0.916000; val_acc: 0.314000\n",
      "(Epoch 24 / 50) train acc: 0.908000; val_acc: 0.329000\n",
      "(Epoch 25 / 50) train acc: 0.914000; val_acc: 0.312000\n",
      "(Epoch 26 / 50) train acc: 0.936000; val_acc: 0.293000\n",
      "(Epoch 27 / 50) train acc: 0.934000; val_acc: 0.302000\n",
      "(Epoch 28 / 50) train acc: 0.946000; val_acc: 0.318000\n",
      "(Epoch 29 / 50) train acc: 0.948000; val_acc: 0.337000\n",
      "(Epoch 30 / 50) train acc: 0.948000; val_acc: 0.335000\n",
      "(Epoch 31 / 50) train acc: 0.928000; val_acc: 0.320000\n",
      "(Epoch 32 / 50) train acc: 0.952000; val_acc: 0.303000\n",
      "(Epoch 33 / 50) train acc: 0.948000; val_acc: 0.305000\n",
      "(Epoch 34 / 50) train acc: 0.954000; val_acc: 0.323000\n",
      "(Epoch 35 / 50) train acc: 0.984000; val_acc: 0.322000\n",
      "(Epoch 36 / 50) train acc: 0.980000; val_acc: 0.310000\n",
      "(Epoch 37 / 50) train acc: 0.978000; val_acc: 0.327000\n",
      "(Epoch 38 / 50) train acc: 0.984000; val_acc: 0.339000\n",
      "(Epoch 39 / 50) train acc: 0.986000; val_acc: 0.333000\n",
      "(Epoch 40 / 50) train acc: 0.974000; val_acc: 0.318000\n",
      "(Iteration 201 / 250) loss: 12.667423\n",
      "(Epoch 41 / 50) train acc: 0.980000; val_acc: 0.325000\n",
      "(Epoch 42 / 50) train acc: 0.982000; val_acc: 0.326000\n",
      "(Epoch 43 / 50) train acc: 0.980000; val_acc: 0.315000\n",
      "(Epoch 44 / 50) train acc: 0.986000; val_acc: 0.303000\n",
      "(Epoch 45 / 50) train acc: 0.980000; val_acc: 0.304000\n",
      "(Epoch 46 / 50) train acc: 0.982000; val_acc: 0.323000\n",
      "(Epoch 47 / 50) train acc: 0.980000; val_acc: 0.349000\n",
      "(Epoch 48 / 50) train acc: 0.988000; val_acc: 0.343000\n",
      "(Epoch 49 / 50) train acc: 0.986000; val_acc: 0.314000\n",
      "(Epoch 50 / 50) train acc: 0.994000; val_acc: 0.310000\n"
     ]
    }
   ],
   "source": [
    "# Train two identical nets, one with dropout and one without\n",
    "\n",
    "num_train = 500\n",
    "small_data = {\n",
    "  'X_train': data['X_train'][:num_train],\n",
    "  'y_train': data['y_train'][:num_train],\n",
    "  'X_val': data['X_val'],\n",
    "  'y_val': data['y_val'],\n",
    "}\n",
    "\n",
    "solvers = {}\n",
    "dropout_choices = [0, 0.7]\n",
    "for dropout in dropout_choices:\n",
    "  model = FullyConnectedNet([500], dropout=dropout)\n",
    "  print dropout\n",
    "\n",
    "  solver = Solver(model, small_data,\n",
    "                  num_epochs=50, batch_size=100,\n",
    "                  update_rule='adam',\n",
    "                  optim_config={\n",
    "                    'learning_rate': 5e-4,\n",
    "                  },\n",
    "                  verbose=True, print_every=100)\n",
    "  solver.train()\n",
    "  solvers[dropout] = solver"
   ]
  },
  {
   "cell_type": "code",
   "execution_count": 13,
   "metadata": {
    "collapsed": false
   },
   "outputs": [
    {
     "data": {
      "image/png": "[encoded data removed]",
      "text/plain": [
       "<matplotlib.figure.Figure at 0x14b090b8>"
      ]
     },
     "metadata": {},
     "output_type": "display_data"
    }
   ],
   "source": [
    "# Plot train and validation accuracies of the two models\n",
    "\n",
    "train_accs = []\n",
    "val_accs = []\n",
    "for dropout in dropout_choices:\n",
    "  solver = solvers[dropout]\n",
    "  train_accs.append(solver.train_acc_history[-1])\n",
    "  val_accs.append(solver.val_acc_history[-1])\n",
    "\n",
    "plt.subplot(3, 1, 1)\n",
    "for dropout in dropout_choices:\n",
    "  plt.plot(solvers[dropout].train_acc_history, 'o', label='%.2f dropout' % dropout)\n",
    "plt.title('Train accuracy')\n",
    "plt.xlabel('Epoch')\n",
    "plt.ylabel('Accuracy')\n",
    "plt.legend(ncol=2, loc='lower right')\n",
    "  \n",
    "plt.subplot(3, 1, 2)\n",
    "for dropout in dropout_choices:\n",
    "  plt.plot(solvers[dropout].val_acc_history, 'o', label='%.2f dropout' % dropout)\n",
    "plt.title('Val accuracy')\n",
    "plt.xlabel('Epoch')\n",
    "plt.ylabel('Accuracy')\n",
    "plt.legend(ncol=2, loc='lower right')\n",
    "\n",
    "plt.gcf().set_size_inches(15, 15)\n",
    "plt.show()"
   ]
  },
  {
   "cell_type": "markdown",
   "metadata": {},
   "source": [
    "# Question\n",
    "Explain what you see in this experiment. What does it suggest about dropout?"
   ]
  },
  {
   "cell_type": "markdown",
   "metadata": {},
   "source": [
    "# Answer\n"
   ]
  },
  {
   "cell_type": "markdown",
   "metadata": {},
   "source": [
    "The fully connected network with large hidden layer is very prone to be overfitting. Dropout simply prevent the neural network from being overfitting too early. Therefore, there is more room for the performance and accuracy improvement."
   ]
  }
 ],
 "metadata": {
  "kernelspec": {
   "display_name": "Python 2",
   "language": "python",
   "name": "python2"
  },
  "language_info": {
   "codemirror_mode": {
    "name": "ipython",
    "version": 2
   },
   "file_extension": ".py",
   "mimetype": "text/x-python",
   "name": "python",
   "nbconvert_exporter": "python",
   "pygments_lexer": "ipython2",
   "version": "2.7.11"
  }
 },
 "nbformat": 4,
 "nbformat_minor": 0
}
